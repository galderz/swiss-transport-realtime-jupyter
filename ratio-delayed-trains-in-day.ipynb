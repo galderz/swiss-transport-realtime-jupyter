{
 "cells": [
  {
   "cell_type": "code",
   "execution_count": 3,
   "metadata": {
    "collapsed": false
   },
   "outputs": [],
   "source": [
    "#if the library are not install through command line, you can also go to the kernel > conda package and install\n",
    "# * pandas\n",
    "# * matplotlib\n",
    "# * basemap\n",
    "#conda install pandas\n",
    "import numpy as np\n",
    "import pandas as pd\n",
    "import datetime\n",
    "from itertools import *\n",
    "import matplotlib.pyplot as plt\n",
    "from matplotlib.ticker import FuncFormatter\n",
    "from matplotlib import cm\n",
    "from matplotlib import mlab\n",
    "from mpl_toolkits.basemap import Basemap\n",
    "\n",
    "import matplotlib.pyplot as plt\n",
    "%matplotlib inline\n",
    "\n",
    "path_station_boards = 'data/station-boards-dump-4-months.tsv'\n",
    "path_stops = 'data/stops.txt'"
   ]
  },
  {
   "cell_type": "code",
   "execution_count": 4,
   "metadata": {
    "collapsed": true
   },
   "outputs": [],
   "source": [
    "import matplotlib.pyplot as plt\n",
    "%matplotlib inline"
   ]
  },
  {
   "cell_type": "code",
   "execution_count": 5,
   "metadata": {
    "collapsed": false
   },
   "outputs": [
    {
     "name": "stdout",
     "output_type": "stream",
     "text": [
      "2017-03-22 17:33:27.569533\n"
     ]
    }
   ],
   "source": [
    "print(datetime.datetime.now())\n",
    "parser = lambda date: pd.datetime.strptime(date, '%a %b %d %Y %H:%M:%S GMT%z (%Z)')"
   ]
  },
  {
   "cell_type": "code",
   "execution_count": 6,
   "metadata": {
    "collapsed": false
   },
   "outputs": [
    {
     "data": {
      "text/plain": [
       "datetime.datetime(2016, 3, 27, 3, 6, 55, tzinfo=datetime.timezone(datetime.timedelta(0, 7200), 'CEST'))"
      ]
     },
     "execution_count": 6,
     "metadata": {},
     "output_type": "execute_result"
    }
   ],
   "source": [
    "parser('Sun Mar 27 2016 03:06:55 GMT+0200 (CEST)')"
   ]
  },
  {
   "cell_type": "code",
   "execution_count": 15,
   "metadata": {
    "collapsed": false
   },
   "outputs": [
    {
     "name": "stdout",
     "output_type": "stream",
     "text": [
      "2017-03-22 17:35:37.411645\n"
     ]
    }
   ],
   "source": [
    "#we restict the analysis to the first 2 millions lines. Head to a more parallel mode (spark to dealing with the entire set)\n",
    "print(datetime.datetime.now())\n",
    "df_station_boards = pd.read_csv(path_station_boards,\n",
    "                            sep='\\t',\n",
    "                            nrows=2000000,\n",
    "                            parse_dates=[1,4],\n",
    "                            date_parser=parser\n",
    "                           ).fillna(0)"
   ]
  },
  {
   "cell_type": "code",
   "execution_count": 16,
   "metadata": {
    "collapsed": false
   },
   "outputs": [
    {
     "name": "stdout",
     "output_type": "stream",
     "text": [
      "2017-03-22 17:37:09.948838\n"
     ]
    }
   ],
   "source": [
    "print(datetime.datetime.now())\n",
    "df_station_boards['delta_mesure'] = df_station_boards.apply(lambda row:(row.timestamp-row.stop_departure).seconds if (row.stop_departure<row.timestamp) else -(row.stop_departure-row.timestamp).seconds, axis=1)/60\n",
    "df_station_boards['stop_departure_hour'] = df_station_boards.stop_departure.apply(lambda t:t.hour)\n",
    "df_station_boards['is_delayed'] = df_station_boards.stop_delay.apply(lambda d:d>0)"
   ]
  },
  {
   "cell_type": "code",
   "execution_count": 17,
   "metadata": {
    "collapsed": false
   },
   "outputs": [
    {
     "name": "stdout",
     "output_type": "stream",
     "text": [
      "2017-03-22 17:42:53.766772\n"
     ]
    },
    {
     "data": {
      "text/html": [
       "<div>\n",
       "<table border=\"1\" class=\"dataframe\">\n",
       "  <thead>\n",
       "    <tr style=\"text-align: right;\">\n",
       "      <th></th>\n",
       "      <th>id</th>\n",
       "      <th>timestamp</th>\n",
       "      <th>stop_station_id</th>\n",
       "      <th>stop_station_name</th>\n",
       "      <th>stop_departure</th>\n",
       "      <th>name</th>\n",
       "      <th>category</th>\n",
       "      <th>operator</th>\n",
       "      <th>to</th>\n",
       "      <th>stop_delay</th>\n",
       "      <th>stop_prognosis_capacity1st</th>\n",
       "      <th>stop_prognosis_capacity2nd</th>\n",
       "      <th>delta_mesure</th>\n",
       "      <th>stop_departure_hour</th>\n",
       "      <th>is_delayed</th>\n",
       "    </tr>\n",
       "  </thead>\n",
       "  <tbody>\n",
       "    <tr>\n",
       "      <th>0</th>\n",
       "      <td>8530011/R 328/Les Ponts-de-Martel/Fri Jan 08 2...</td>\n",
       "      <td>2016-01-08 17:20:04+01:00</td>\n",
       "      <td>8530011</td>\n",
       "      <td>Les Coeudres-Est</td>\n",
       "      <td>2016-01-08 17:20:00+01:00</td>\n",
       "      <td>R 328</td>\n",
       "      <td>R</td>\n",
       "      <td>TRN-cmn</td>\n",
       "      <td>Les Ponts-de-Martel</td>\n",
       "      <td>0.0</td>\n",
       "      <td>-1</td>\n",
       "      <td>-1</td>\n",
       "      <td>0.066667</td>\n",
       "      <td>17</td>\n",
       "      <td>False</td>\n",
       "    </tr>\n",
       "    <tr>\n",
       "      <th>1</th>\n",
       "      <td>8530012/R 328/Les Ponts-de-Martel/Fri Jan 08 2...</td>\n",
       "      <td>2016-01-08 17:20:06+01:00</td>\n",
       "      <td>8530012</td>\n",
       "      <td>Petit-Martel-Est</td>\n",
       "      <td>2016-01-08 17:22:00+01:00</td>\n",
       "      <td>R 328</td>\n",
       "      <td>R</td>\n",
       "      <td>TRN-cmn</td>\n",
       "      <td>Les Ponts-de-Martel</td>\n",
       "      <td>0.0</td>\n",
       "      <td>-1</td>\n",
       "      <td>-1</td>\n",
       "      <td>-1.900000</td>\n",
       "      <td>17</td>\n",
       "      <td>False</td>\n",
       "    </tr>\n",
       "    <tr>\n",
       "      <th>2</th>\n",
       "      <td>8530064/R 556/Villars-sur-Ollon/Fri Jan 08 201...</td>\n",
       "      <td>2016-01-08 17:05:26+01:00</td>\n",
       "      <td>8530064</td>\n",
       "      <td>Bex Pont-Neuf</td>\n",
       "      <td>2016-01-08 17:09:00+01:00</td>\n",
       "      <td>R 556</td>\n",
       "      <td>R</td>\n",
       "      <td>TPC-bvb</td>\n",
       "      <td>Villars-sur-Ollon</td>\n",
       "      <td>0.0</td>\n",
       "      <td>-1</td>\n",
       "      <td>-1</td>\n",
       "      <td>-3.566667</td>\n",
       "      <td>17</td>\n",
       "      <td>False</td>\n",
       "    </tr>\n",
       "    <tr>\n",
       "      <th>3</th>\n",
       "      <td>8530066/R 556/Villars-sur-Ollon/Fri Jan 08 201...</td>\n",
       "      <td>2016-01-08 17:05:27+01:00</td>\n",
       "      <td>8530066</td>\n",
       "      <td>Grand-Moulin</td>\n",
       "      <td>2016-01-08 17:10:00+01:00</td>\n",
       "      <td>R 556</td>\n",
       "      <td>R</td>\n",
       "      <td>TPC-bvb</td>\n",
       "      <td>Villars-sur-Ollon</td>\n",
       "      <td>0.0</td>\n",
       "      <td>-1</td>\n",
       "      <td>-1</td>\n",
       "      <td>-4.550000</td>\n",
       "      <td>17</td>\n",
       "      <td>False</td>\n",
       "    </tr>\n",
       "    <tr>\n",
       "      <th>4</th>\n",
       "      <td>8530067/R 556/Villars-sur-Ollon/Fri Jan 08 201...</td>\n",
       "      <td>2016-01-08 17:05:27+01:00</td>\n",
       "      <td>8530067</td>\n",
       "      <td>Les Salines</td>\n",
       "      <td>2016-01-08 17:11:00+01:00</td>\n",
       "      <td>R 556</td>\n",
       "      <td>R</td>\n",
       "      <td>TPC-bvb</td>\n",
       "      <td>Villars-sur-Ollon</td>\n",
       "      <td>0.0</td>\n",
       "      <td>-1</td>\n",
       "      <td>-1</td>\n",
       "      <td>-5.550000</td>\n",
       "      <td>17</td>\n",
       "      <td>False</td>\n",
       "    </tr>\n",
       "  </tbody>\n",
       "</table>\n",
       "</div>"
      ],
      "text/plain": [
       "                                                  id  \\\n",
       "0  8530011/R 328/Les Ponts-de-Martel/Fri Jan 08 2...   \n",
       "1  8530012/R 328/Les Ponts-de-Martel/Fri Jan 08 2...   \n",
       "2  8530064/R 556/Villars-sur-Ollon/Fri Jan 08 201...   \n",
       "3  8530066/R 556/Villars-sur-Ollon/Fri Jan 08 201...   \n",
       "4  8530067/R 556/Villars-sur-Ollon/Fri Jan 08 201...   \n",
       "\n",
       "                  timestamp  stop_station_id stop_station_name  \\\n",
       "0 2016-01-08 17:20:04+01:00          8530011  Les Coeudres-Est   \n",
       "1 2016-01-08 17:20:06+01:00          8530012  Petit-Martel-Est   \n",
       "2 2016-01-08 17:05:26+01:00          8530064     Bex Pont-Neuf   \n",
       "3 2016-01-08 17:05:27+01:00          8530066      Grand-Moulin   \n",
       "4 2016-01-08 17:05:27+01:00          8530067       Les Salines   \n",
       "\n",
       "             stop_departure   name category operator                   to  \\\n",
       "0 2016-01-08 17:20:00+01:00  R 328        R  TRN-cmn  Les Ponts-de-Martel   \n",
       "1 2016-01-08 17:22:00+01:00  R 328        R  TRN-cmn  Les Ponts-de-Martel   \n",
       "2 2016-01-08 17:09:00+01:00  R 556        R  TPC-bvb    Villars-sur-Ollon   \n",
       "3 2016-01-08 17:10:00+01:00  R 556        R  TPC-bvb    Villars-sur-Ollon   \n",
       "4 2016-01-08 17:11:00+01:00  R 556        R  TPC-bvb    Villars-sur-Ollon   \n",
       "\n",
       "   stop_delay  stop_prognosis_capacity1st  stop_prognosis_capacity2nd  \\\n",
       "0         0.0                          -1                          -1   \n",
       "1         0.0                          -1                          -1   \n",
       "2         0.0                          -1                          -1   \n",
       "3         0.0                          -1                          -1   \n",
       "4         0.0                          -1                          -1   \n",
       "\n",
       "   delta_mesure  stop_departure_hour is_delayed  \n",
       "0      0.066667                   17      False  \n",
       "1     -1.900000                   17      False  \n",
       "2     -3.566667                   17      False  \n",
       "3     -4.550000                   17      False  \n",
       "4     -5.550000                   17      False  "
      ]
     },
     "execution_count": 17,
     "metadata": {},
     "output_type": "execute_result"
    }
   ],
   "source": [
    "print(datetime.datetime.now())\n",
    "df_station_boards_last = df_station_boards.drop_duplicates(subset='id', keep='last')\n",
    "df_station_boards_last.head()"
   ]
  },
  {
   "cell_type": "code",
   "execution_count": 18,
   "metadata": {
    "collapsed": false
   },
   "outputs": [
    {
     "name": "stdout",
     "output_type": "stream",
     "text": [
      "2017-03-22 17:43:02.440961\n"
     ]
    },
    {
     "data": {
      "text/plain": [
       "4.067681168032693"
      ]
     },
     "execution_count": 18,
     "metadata": {},
     "output_type": "execute_result"
    }
   ],
   "source": [
    "print(datetime.datetime.now())\n",
    "#rate of delayed\n",
    "df_station_boards_delayed=df_station_boards_last[df_station_boards_last['stop_delay']>0]\n",
    "tot_station_boards = len(df_station_boards_last)\n",
    "tot_station_boards_delayed = len(df_station_boards_delayed)\n",
    "tot_station_boards_delayed/tot_station_boards*100"
   ]
  },
  {
   "cell_type": "code",
   "execution_count": 19,
   "metadata": {
    "collapsed": false
   },
   "outputs": [
    {
     "name": "stdout",
     "output_type": "stream",
     "text": [
      "2017-03-22 17:43:04.790121\n"
     ]
    }
   ],
   "source": [
    "print(datetime.datetime.now())\n",
    "tot_per_hour = df_station_boards_last.groupby('stop_departure_hour').size()\n",
    "delayed_per_hour = df_station_boards_delayed.groupby('stop_departure_hour').size()"
   ]
  },
  {
   "cell_type": "code",
   "execution_count": 13,
   "metadata": {
    "collapsed": false
   },
   "outputs": [
    {
     "name": "stdout",
     "output_type": "stream",
     "text": [
      "2017-03-22 17:35:16.724238\n"
     ]
    },
    {
     "data": {
      "image/png": "[encoded data removed]",
      "text/plain": [
       "<matplotlib.figure.Figure at 0x10df1e2b0>"
      ]
     },
     "metadata": {},
     "output_type": "display_data"
    }
   ],
   "source": [
    "print(datetime.datetime.now())\n",
    "def to_percent(y, position):\n",
    "    s = str(100 * y)\n",
    "    return s + '%'\n",
    "    \n",
    "formatter_percent = FuncFormatter(to_percent)\n",
    "\n",
    "plot_delay_dist = (df_station_boards_delayed.groupby('stop_delay').size()/tot_station_boards)[range(3,20)].plot(kind='bar', figsize=(12,6))\n",
    "plot_delay_dist.set_xlabel(\"last reported delay\", fontsize=17)\n",
    "plot_delay_dist.set_title('ratio of delayed trains (%2.1f%% of total)' %(tot_station_boards_delayed/tot_station_boards*100), fontsize=25)\n",
    "plot_delay_dist.tick_params(axis='both', which='major', labelsize=15)\n",
    "plot_delay_dist.yaxis.set_major_formatter(formatter_percent)"
   ]
  },
  {
   "cell_type": "code",
   "execution_count": 20,
   "metadata": {
    "collapsed": false
   },
   "outputs": [
    {
     "data": {
      "image/png": "[encoded data removed]",
      "text/plain": [
       "<matplotlib.figure.Figure at 0x10df5ae48>"
      ]
     },
     "metadata": {},
     "output_type": "display_data"
    }
   ],
   "source": [
    "plot_delay_dist = (delayed_per_hour/tot_per_hour).plot(kind='bar', figsize=(16,12))\n",
    "plot_delay_dist.set_xlabel(\"hour of the day\", fontsize=17)\n",
    "plot_delay_dist.set_title('ratio of delayed trains, across  the day', fontsize=25)\n",
    "plot_delay_dist.tick_params(axis='both', which='major', labelsize=15)\n",
    "plot_delay_dist.yaxis.set_major_formatter(formatter_percent)"
   ]
  },
  {
   "cell_type": "code",
   "execution_count": null,
   "metadata": {
    "collapsed": true
   },
   "outputs": [],
   "source": []
  }
 ],
 "metadata": {
  "kernelspec": {
   "display_name": "Python 3",
   "language": "python",
   "name": "python3"
  },
  "language_info": {
   "codemirror_mode": {
    "name": "ipython",
    "version": 3
   },
   "file_extension": ".py",
   "mimetype": "text/x-python",
   "name": "python",
   "nbconvert_exporter": "python",
   "pygments_lexer": "ipython3",
   "version": "3.6.0"
  }
 },
 "nbformat": 4,
 "nbformat_minor": 2
}
